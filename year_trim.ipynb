{
 "cells": [
  {
   "cell_type": "code",
   "execution_count": 8,
   "metadata": {
    "collapsed": true
   },
   "outputs": [],
   "source": [
    "import sys, os, time"
   ]
  },
  {
   "cell_type": "code",
   "execution_count": 9,
   "metadata": {
    "collapsed": true
   },
   "outputs": [],
   "source": [
    "import pandas as pd"
   ]
  },
  {
   "cell_type": "code",
   "execution_count": 10,
   "metadata": {
    "collapsed": false
   },
   "outputs": [],
   "source": [
    "# pID_year = pd.read_csv('pID_year.txt', header=None, names=['pid', 'year'])\n",
    "pID_year = pd.read_csv('pID_year.txt', header=None, names=['pid', 'year'])\n",
    "pID_year = pID_year.set_index('pid')"
   ]
  },
  {
   "cell_type": "code",
   "execution_count": 11,
   "metadata": {
    "collapsed": true
   },
   "outputs": [],
   "source": [
    "# from util.PajekFactory import PajekFactory"
   ]
  },
  {
   "cell_type": "code",
   "execution_count": 12,
   "metadata": {
    "collapsed": false
   },
   "outputs": [],
   "source": [
    "# start = time.time()\n",
    "# pjk = PajekFactory()\n",
    "# with open('jstor.net', 'r') as f:\n",
    "#     vertices = {}\n",
    "#     arcs = []\n",
    "#     mode = \"\"\n",
    "#     remove_idx = []\n",
    "#     line_no = 0\n",
    "#     for line in f:\n",
    "#         line_no += 1\n",
    "#         if line_no in [5e4, 1e5, 5e5] or (line_no % 1e6 == 0):\n",
    "#             print(\"{} lines so far\".format(line_no))\n",
    "#         line = line.strip()\n",
    "#         if line[0] == '*':\n",
    "#             if line.lower().startswith('*vert'):\n",
    "#                 mode = 'vertices'\n",
    "#             if line.lower().startswith('*arc') or line.lower().startswith('*edg'):\n",
    "#                 mode = 'arcs'\n",
    "#                 print('vertices complete ({:.2f} seconds so far)'.format(time.time()-start))\n",
    "#             continue\n",
    "#         line = line.split(' ')\n",
    "        \n",
    "#         if mode == 'vertices':\n",
    "#             idx = int(line[0])\n",
    "#             pid = int(line[1].strip('\"'))\n",
    "#             if pid in remove.values:\n",
    "#                 remove_idx.append(idx)\n",
    "#             else:\n",
    "#                 vertices[idx] = pid\n",
    "                \n",
    "#         elif mode == 'arcs':\n",
    "#             remove_idx = pd.Series(remove_idx)\n",
    "#             idx_out = int(line[0])\n",
    "#             idx_in = int(line[1])\n",
    "#             if (idx_out in remove_idx.values) or (idx_in in remove_idx.values):\n",
    "#                 continue\n",
    "#             else:\n",
    "#                 pid_out = vertices[idx_out]\n",
    "#                 pid_in = vertices[idx_in]\n",
    "#                 pjk.add_edge(pid_out, pid_in)\n",
    "\n",
    "# end = time.time()\n",
    "# print(\"done {:.2f} seconds\".format(end-start))"
   ]
  },
  {
   "cell_type": "code",
   "execution_count": 113,
   "metadata": {
    "collapsed": false
   },
   "outputs": [],
   "source": [
    "def parse_pajek(fname):\n",
    "    vertices = {}\n",
    "    arcs = []\n",
    "    with open(fname, 'r') as f:\n",
    "        mode = \"\"\n",
    "        line_num = 0\n",
    "        for line in f:\n",
    "            line_num += 1\n",
    "#             if line_num in [5e4, 1e5, 5e5] or (line_no % 1e6 == 0):\n",
    "#                 print(\"{} lines so far\".format(line_num))\n",
    "            line = line.strip()\n",
    "            if line[0] == '*':\n",
    "                if line.lower().startswith('*vert'):\n",
    "                    mode = 'vertices'\n",
    "                if line.lower().startswith('*arc') or line.lower().startswith('*edg'):\n",
    "                    mode = 'arcs'\n",
    "                continue\n",
    "            line = line.split(' ')\n",
    "\n",
    "            if mode == 'vertices':\n",
    "                idx = int(line[0])\n",
    "                pid = int(line[1].strip('\"'))\n",
    "                vertices[idx] = pid\n",
    "\n",
    "            elif mode == 'arcs':\n",
    "                idx_out = int(line[0])\n",
    "                idx_in = int(line[1])\n",
    "                pid_out = vertices[idx_out]\n",
    "                pid_in = vertices[idx_in]\n",
    "                arcs.append( (pid_out, pid_in) )\n",
    "    return arcs"
   ]
  },
  {
   "cell_type": "code",
   "execution_count": 114,
   "metadata": {
    "collapsed": true
   },
   "outputs": [],
   "source": [
    "def join_years(df, colname_citing='citing', colname_cited='cited'):\n",
    "    df = df.join(pID_year.year, on=colname_citing).rename(columns={'year': 'citing_year'})\n",
    "    df = df.join(pID_year.year, on=colname_cited).rename(columns={'year': 'cited_year'})\n",
    "    return df"
   ]
  },
  {
   "cell_type": "code",
   "execution_count": 115,
   "metadata": {
    "collapsed": true
   },
   "outputs": [],
   "source": [
    "def trim_years(df, year_cutoff):\n",
    "    trimmed = df[df.citing_year<=year_cutoff]\n",
    "    trimmed = trimmed[trimmed.cited_year<year_cutoff]\n",
    "    return trimmed"
   ]
  },
  {
   "cell_type": "code",
   "execution_count": 116,
   "metadata": {
    "collapsed": true
   },
   "outputs": [],
   "source": [
    "def get_vertices(edgelist_df):\n",
    "    # returns a series with the proper index\n",
    "    vertices = []\n",
    "    vertices.extend(edgelist_df.citing.tolist())\n",
    "    vertices.extend(edgelist_df.cited.tolist())\n",
    "    vertices = pd.Series(vertices).drop_duplicates().reset_index(drop=True)\n",
    "    # increment the index for one-based index (pajek convention)\n",
    "    vertices.index += 1\n",
    "    return vertices\n",
    "\n",
    "def write_pajek(edgelist_df, fname):\n",
    "    vertices = get_vertices(edgelist_df)\n",
    "    pid_to_idx = {}\n",
    "    for idx, pid in vertices.iteritems():\n",
    "        pid_to_idx[pid] = idx\n",
    "    citing = edgelist_df.citing.map(pid_to_idx)\n",
    "    cited = edgelist_df.cited.map(pid_to_idx)\n",
    "    with open(fname, 'w') as f:\n",
    "        f.write('*vertices {}'.format(len(vertices)))\n",
    "        f.write('\\n')\n",
    "        \n",
    "        for idx, pid in vertices.iteritems():\n",
    "            f.write('{} \"{}\"'.format(idx, pid))\n",
    "            f.write('\\n')\n",
    "            pid_to_idx[pid] = idx\n",
    "        citing = edgelist_df.citing.map(pid_to_idx)\n",
    "        cited = edgelist_df.cited.map(pid_to_idx)\n",
    "        \n",
    "        f.write('*arcs {}'.format(edgelist_df.shape[0]))\n",
    "        f.write('\\n')\n",
    "        for idx_out, idx_in in zip(citing, cited):\n",
    "            f.write('{} {}'.format(idx_out, idx_in))\n",
    "            f.write('\\n')"
   ]
  },
  {
   "cell_type": "code",
   "execution_count": 96,
   "metadata": {
    "collapsed": false
   },
   "outputs": [
    {
     "name": "stdout",
     "output_type": "stream",
     "text": [
      "vertices complete (13969.42 seconds so far)\n"
     ]
    }
   ],
   "source": [
    "arcs = parse_pajek('jstor.net')\n",
    "df = pd.DataFrame(arcs, columns=['citing', 'cited'])\n",
    "df = join_years(df)\n",
    "df = trim_years(df, year_cutoff=1965)\n",
    "trimmed_out = df[['citing', 'cited']].reset_index(drop=True)"
   ]
  },
  {
   "cell_type": "code",
   "execution_count": 97,
   "metadata": {
    "collapsed": false
   },
   "outputs": [
    {
     "data": {
      "text/plain": [
       "(571935, 4)"
      ]
     },
     "execution_count": 97,
     "metadata": {},
     "output_type": "execute_result"
    }
   ],
   "source": [
    "df.shape"
   ]
  },
  {
   "cell_type": "code",
   "execution_count": 98,
   "metadata": {
    "collapsed": false
   },
   "outputs": [],
   "source": [
    "write_pajek(trimmed_out, 'test_jstor_trimmed_1965.net')"
   ]
  },
  {
   "cell_type": "code",
   "execution_count": 124,
   "metadata": {
    "collapsed": true
   },
   "outputs": [],
   "source": [
    "def trimmed_range_write_pajeks(infilename, \n",
    "                               start_year, \n",
    "                               end_year=None, \n",
    "                               step=5, \n",
    "                               outdir=os.path.abspath('.'), \n",
    "                               outf_base='trimmed'):\n",
    "    arcs = parse_pajek(infilename)\n",
    "    df = pd.DataFrame(arcs, columns=['citing', 'cited'])\n",
    "    df = join_years(df)\n",
    "    \n",
    "    if not end_year:\n",
    "        end_year = df.citing_year.max().astype(int)\n",
    "    year_range = range(start_year, end_year, step)\n",
    "    if year_range[-1] != end_year:\n",
    "        year_range.append(end_year)\n",
    "    year_range.sort(reverse=True)\n",
    "    \n",
    "    for year_cutoff in year_range:\n",
    "        df = trim_years(df, year_cutoff)\n",
    "        df_out = df[['citing', 'cited']].reset_index(drop=True)\n",
    "        outfilename = \"{}-{}.net\".format(outf_base, year_cutoff)\n",
    "        outpath = os.path.join(outdir, outfilename)\n",
    "        write_pajek(df_out, outpath)"
   ]
  },
  {
   "cell_type": "code",
   "execution_count": 125,
   "metadata": {
    "collapsed": false
   },
   "outputs": [
    {
     "ename": "KeyboardInterrupt",
     "evalue": "",
     "output_type": "error",
     "traceback": [
      "\u001b[0;31m---------------------------------------------------------------------------\u001b[0m",
      "\u001b[0;31mKeyboardInterrupt\u001b[0m                         Traceback (most recent call last)",
      "\u001b[0;32m<ipython-input-125-580febfdfb75>\u001b[0m in \u001b[0;36m<module>\u001b[0;34m()\u001b[0m\n\u001b[0;32m----> 1\u001b[0;31m \u001b[0mtrimmed_range_write_pajeks\u001b[0m\u001b[0;34m(\u001b[0m\u001b[0;34m'jstor.net'\u001b[0m\u001b[0;34m,\u001b[0m \u001b[0mstart_year\u001b[0m\u001b[0;34m=\u001b[0m\u001b[0;36m1965\u001b[0m\u001b[0;34m,\u001b[0m \u001b[0mend_year\u001b[0m\u001b[0;34m=\u001b[0m\u001b[0;36m1972\u001b[0m\u001b[0;34m,\u001b[0m \u001b[0moutf_base\u001b[0m\u001b[0;34m=\u001b[0m\u001b[0;34m'test_jstor_trimmed'\u001b[0m\u001b[0;34m)\u001b[0m\u001b[0;34m\u001b[0m\u001b[0m\n\u001b[0m",
      "\u001b[0;32m<ipython-input-124-47c2af642150>\u001b[0m in \u001b[0;36mtrimmed_range_write_pajeks\u001b[0;34m(infilename, start_year, end_year, step, outdir, outf_base)\u001b[0m\n\u001b[1;32m      5\u001b[0m                                \u001b[0moutdir\u001b[0m\u001b[0;34m=\u001b[0m\u001b[0mos\u001b[0m\u001b[0;34m.\u001b[0m\u001b[0mpath\u001b[0m\u001b[0;34m.\u001b[0m\u001b[0mabspath\u001b[0m\u001b[0;34m(\u001b[0m\u001b[0;34m'.'\u001b[0m\u001b[0;34m)\u001b[0m\u001b[0;34m,\u001b[0m\u001b[0;34m\u001b[0m\u001b[0m\n\u001b[1;32m      6\u001b[0m                                outf_base='trimmed'):\n\u001b[0;32m----> 7\u001b[0;31m     \u001b[0marcs\u001b[0m \u001b[0;34m=\u001b[0m \u001b[0mparse_pajek\u001b[0m\u001b[0;34m(\u001b[0m\u001b[0minfilename\u001b[0m\u001b[0;34m)\u001b[0m\u001b[0;34m\u001b[0m\u001b[0m\n\u001b[0m\u001b[1;32m      8\u001b[0m     \u001b[0mdf\u001b[0m \u001b[0;34m=\u001b[0m \u001b[0mpd\u001b[0m\u001b[0;34m.\u001b[0m\u001b[0mDataFrame\u001b[0m\u001b[0;34m(\u001b[0m\u001b[0marcs\u001b[0m\u001b[0;34m,\u001b[0m \u001b[0mcolumns\u001b[0m\u001b[0;34m=\u001b[0m\u001b[0;34m[\u001b[0m\u001b[0;34m'citing'\u001b[0m\u001b[0;34m,\u001b[0m \u001b[0;34m'cited'\u001b[0m\u001b[0;34m]\u001b[0m\u001b[0;34m)\u001b[0m\u001b[0;34m\u001b[0m\u001b[0m\n\u001b[1;32m      9\u001b[0m     \u001b[0mdf\u001b[0m \u001b[0;34m=\u001b[0m \u001b[0mjoin_years\u001b[0m\u001b[0;34m(\u001b[0m\u001b[0mdf\u001b[0m\u001b[0;34m)\u001b[0m\u001b[0;34m\u001b[0m\u001b[0m\n",
      "\u001b[0;32m<ipython-input-113-9adf3fe91024>\u001b[0m in \u001b[0;36mparse_pajek\u001b[0;34m(fname)\u001b[0m\n\u001b[1;32m     25\u001b[0m             \u001b[0;32melif\u001b[0m \u001b[0mmode\u001b[0m \u001b[0;34m==\u001b[0m \u001b[0;34m'arcs'\u001b[0m\u001b[0;34m:\u001b[0m\u001b[0;34m\u001b[0m\u001b[0m\n\u001b[1;32m     26\u001b[0m                 \u001b[0midx_out\u001b[0m \u001b[0;34m=\u001b[0m \u001b[0mint\u001b[0m\u001b[0;34m(\u001b[0m\u001b[0mline\u001b[0m\u001b[0;34m[\u001b[0m\u001b[0;36m0\u001b[0m\u001b[0;34m]\u001b[0m\u001b[0;34m)\u001b[0m\u001b[0;34m\u001b[0m\u001b[0m\n\u001b[0;32m---> 27\u001b[0;31m                 \u001b[0midx_in\u001b[0m \u001b[0;34m=\u001b[0m \u001b[0mint\u001b[0m\u001b[0;34m(\u001b[0m\u001b[0mline\u001b[0m\u001b[0;34m[\u001b[0m\u001b[0;36m1\u001b[0m\u001b[0;34m]\u001b[0m\u001b[0;34m)\u001b[0m\u001b[0;34m\u001b[0m\u001b[0m\n\u001b[0m\u001b[1;32m     28\u001b[0m                 \u001b[0mpid_out\u001b[0m \u001b[0;34m=\u001b[0m \u001b[0mvertices\u001b[0m\u001b[0;34m[\u001b[0m\u001b[0midx_out\u001b[0m\u001b[0;34m]\u001b[0m\u001b[0;34m\u001b[0m\u001b[0m\n\u001b[1;32m     29\u001b[0m                 \u001b[0mpid_in\u001b[0m \u001b[0;34m=\u001b[0m \u001b[0mvertices\u001b[0m\u001b[0;34m[\u001b[0m\u001b[0midx_in\u001b[0m\u001b[0;34m]\u001b[0m\u001b[0;34m\u001b[0m\u001b[0m\n",
      "\u001b[0;31mKeyboardInterrupt\u001b[0m: "
     ]
    }
   ],
   "source": [
    "trimmed_range_write_pajeks('jstor.net', start_year=1965, end_year=1972, outf_base='test_jstor_trimmed')"
   ]
  },
  {
   "cell_type": "code",
   "execution_count": 126,
   "metadata": {
    "collapsed": false
   },
   "outputs": [],
   "source": [
    "trimmed_range_write_pajeks('jstor.net', \n",
    "                           start_year=1930, \n",
    "                           outdir='trimmed_years', \n",
    "                           outf_base='jstor_trimmed')"
   ]
  },
  {
   "cell_type": "code",
   "execution_count": null,
   "metadata": {
    "collapsed": true
   },
   "outputs": [],
   "source": []
  }
 ],
 "metadata": {
  "kernelspec": {
   "display_name": "Python 2",
   "language": "python",
   "name": "python2"
  },
  "language_info": {
   "codemirror_mode": {
    "name": "ipython",
    "version": 2
   },
   "file_extension": ".py",
   "mimetype": "text/x-python",
   "name": "python",
   "nbconvert_exporter": "python",
   "pygments_lexer": "ipython2",
   "version": "2.7.12"
  }
 },
 "nbformat": 4,
 "nbformat_minor": 2
}
